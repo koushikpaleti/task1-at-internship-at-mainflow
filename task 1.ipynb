{
 "cells": [
  {
   "cell_type": "code",
   "execution_count": null,
   "id": "ce9fae3b-2284-4964-837f-cb9182f4180a",
   "metadata": {},
   "outputs": [],
   "source": [
    "#CREATING A LIST\n",
    "my_list=[1,2,3,4,5]\n",
    "#adding a element to the list\n",
    "my_list.append(6)\n",
    "#removing an element from the list\n",
    "my_list.remove(3)\n",
    "#modifying a element in the list\n",
    "my_list[0]=10\n",
    "\n",
    "print(\"updated list :\",my_list)"
   ]
  },
  {
   "cell_type": "code",
   "execution_count": 3,
   "id": "a23890dc-e643-4a66-9dc7-01ac31b56082",
   "metadata": {},
   "outputs": [
    {
     "name": "stdout",
     "output_type": "stream",
     "text": [
      "updated dictionary : {'name': 'koushik', 'age': '19', 'gender': 'male'}\n"
     ]
    }
   ],
   "source": [
    "#CREATING A DICTIONARY\n",
    "my_dict={'name':'koushik','age':'18','city':'eluru'}\n",
    "#adding an element in dictionary\n",
    "my_dict['gender']='male'\n",
    "#removing an element from dictionary\n",
    "del my_dict['city']\n",
    "#modifying an element in dictionary\n",
    "my_dict['age']='19'\n",
    "\n",
    "print(\"updated dictionary :\",my_dict)"
   ]
  },
  {
   "cell_type": "code",
   "execution_count": 7,
   "id": "714c0041-4fe5-4867-a199-ca50daeca21b",
   "metadata": {},
   "outputs": [
    {
     "name": "stdout",
     "output_type": "stream",
     "text": [
      "updated set : {'ten', 'two', 'four', 'six', 'one'}\n"
     ]
    }
   ],
   "source": [
    "#CREATING A SET\n",
    "my_set={'one','two','three','four','five' }\n",
    "#adding a element in set\n",
    "my_set.add('six')\n",
    "#removing an element from set\n",
    "my_set.remove('three')\n",
    "#modifying an element in set\n",
    "my_set.discard('five')\n",
    "my_set.add('ten')\n",
    "\n",
    "print(\"updated set :\",my_set)"
   ]
  },
  {
   "cell_type": "code",
   "execution_count": null,
   "id": "f5c3d763-e418-4e85-bc45-a6f83676c6a5",
   "metadata": {},
   "outputs": [],
   "source": []
  }
 ],
 "metadata": {
  "kernelspec": {
   "display_name": "Python 3 (ipykernel)",
   "language": "python",
   "name": "python3"
  },
  "language_info": {
   "codemirror_mode": {
    "name": "ipython",
    "version": 3
   },
   "file_extension": ".py",
   "mimetype": "text/x-python",
   "name": "python",
   "nbconvert_exporter": "python",
   "pygments_lexer": "ipython3",
   "version": "3.12.1"
  }
 },
 "nbformat": 4,
 "nbformat_minor": 5
}
